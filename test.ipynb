{
 "cells": [
  {
   "cell_type": "code",
   "execution_count": null,
   "metadata": {},
   "outputs": [
    {
     "ename": "ImportError",
     "evalue": "cannot import name 'prepare_data' from 'utils.preprocessing' (/Users/jamesliu/Documents/GitHub/bloomberg-time-series/utils/preprocessing.py)",
     "output_type": "error",
     "traceback": [
      "\u001b[0;31m---------------------------------------------------------------------------\u001b[0m",
      "\u001b[0;31mImportError\u001b[0m                               Traceback (most recent call last)",
      "Cell \u001b[0;32mIn[5], line 20\u001b[0m\n\u001b[1;32m     18\u001b[0m \u001b[38;5;28;01mfrom\u001b[39;00m\u001b[38;5;250m \u001b[39m\u001b[38;5;21;01mmodels\u001b[39;00m\u001b[38;5;21;01m.\u001b[39;00m\u001b[38;5;21;01mtft\u001b[39;00m\u001b[38;5;250m \u001b[39m\u001b[38;5;28;01mimport\u001b[39;00m TemporalFusionTransformer\n\u001b[1;32m     19\u001b[0m \u001b[38;5;28;01mfrom\u001b[39;00m\u001b[38;5;250m \u001b[39m\u001b[38;5;21;01mmodels\u001b[39;00m\u001b[38;5;21;01m.\u001b[39;00m\u001b[38;5;21;01mdeepar\u001b[39;00m\u001b[38;5;250m \u001b[39m\u001b[38;5;28;01mimport\u001b[39;00m DeepAR\n\u001b[0;32m---> 20\u001b[0m \u001b[38;5;28;01mfrom\u001b[39;00m\u001b[38;5;250m \u001b[39m\u001b[38;5;21;01mutils\u001b[39;00m\u001b[38;5;21;01m.\u001b[39;00m\u001b[38;5;21;01mpreprocessing\u001b[39;00m\u001b[38;5;250m \u001b[39m\u001b[38;5;28;01mimport\u001b[39;00m prepare_data  \u001b[38;5;66;03m# Data preparation function\u001b[39;00m\n\u001b[1;32m     21\u001b[0m \u001b[38;5;28;01mfrom\u001b[39;00m\u001b[38;5;250m \u001b[39m\u001b[38;5;21;01mtraining\u001b[39;00m\u001b[38;5;21;01m.\u001b[39;00m\u001b[38;5;21;01mhyperparameters\u001b[39;00m\u001b[38;5;250m \u001b[39m\u001b[38;5;28;01mimport\u001b[39;00m HPARAMS  \u001b[38;5;66;03m# Load hyperparameters\u001b[39;00m\n\u001b[1;32m     22\u001b[0m \u001b[38;5;28;01mfrom\u001b[39;00m\u001b[38;5;250m \u001b[39m\u001b[38;5;21;01mdata\u001b[39;00m\u001b[38;5;21;01m.\u001b[39;00m\u001b[38;5;21;01msynthetic_data\u001b[39;00m\u001b[38;5;250m \u001b[39m\u001b[38;5;28;01mimport\u001b[39;00m generate_multiple_series  \u001b[38;5;66;03m# Synthetic data\u001b[39;00m\n",
      "\u001b[0;31mImportError\u001b[0m: cannot import name 'prepare_data' from 'utils.preprocessing' (/Users/jamesliu/Documents/GitHub/bloomberg-time-series/utils/preprocessing.py)"
     ]
    }
   ],
   "source": [
    "import os\n",
    "import sys\n",
    "import torch\n",
    "import torch.nn as nn\n",
    "import torch.optim as optim\n",
    "import numpy as np\n",
    "from torch.utils.data import DataLoader, TensorDataset\n",
    "import matplotlib.pyplot as plt\n",
    "\n",
    "# Ensure correct working directory\n",
    "SCRIPT_DIR = os.getcwd()\n",
    "PROJECT_ROOT = os.path.abspath(os.path.join(SCRIPT_DIR, \"..\"))\n",
    "sys.path.append(PROJECT_ROOT)  # Ensure imports work\n",
    "\n",
    "# Import models\n",
    "from models.nbeatsx import NBeatsX\n",
    "from models.ctts import CTTS\n",
    "from models.tft import TemporalFusionTransformer\n",
    "from models.deepar import DeepAR\n",
    "\n"
   ]
  },
  {
   "cell_type": "code",
   "execution_count": null,
   "metadata": {},
   "outputs": [],
   "source": [
    "\n",
    "from utils.preprocessing import prepare_data  # Data preparation function\n",
    "from training.hyperparameters import HPARAMS  # Load hyperparameters\n",
    "from data.synthetic_data import generate_multiple_series  # Synthetic data\n",
    "\n",
    "# Set device\n",
    "DEVICE = torch.device(\"cuda\" if torch.cuda.is_available() else \"cpu\")\n",
    "\n",
    "# Generate synthetic data\n",
    "synthetic_data = generate_multiple_series(num_series=1, T=252)  # 1 year of data\n",
    "train_data = synthetic_data[\"synthetic_series_1\"]\n",
    "X_train, Y_train = prepare_data(train_data)\n",
    "\n",
    "# Create DataLoader\n",
    "dataset = TensorDataset(torch.tensor(X_train, dtype=torch.float32), torch.tensor(Y_train, dtype=torch.float32))\n",
    "train_loader = DataLoader(dataset, batch_size=HPARAMS[\"batch_size\"], shuffle=True)\n",
    "\n",
    "# Define models\n",
    "models = {\n",
    "    \"nbeatsx\": NBeatsX(input_size=HPARAMS[\"input_size\"], output_size=1).to(DEVICE),\n",
    "    \"ctts\": CTTS().to(DEVICE),\n",
    "    \"tft\": TemporalFusionTransformer(input_size=HPARAMS[\"input_size\"]).to(DEVICE),\n",
    "    \"deepar\": DeepAR(input_size=HPARAMS[\"input_size\"]).to(DEVICE),\n",
    "}\n",
    "\n",
    "# Training function\n",
    "def train_model(model, train_loader, criterion, optimizer, epochs=50):\n",
    "    model.to(DEVICE)\n",
    "    model.train()\n",
    "    losses = []\n",
    "    for epoch in range(epochs):\n",
    "        epoch_loss = 0\n",
    "        for inputs, targets in train_loader:\n",
    "            inputs, targets = inputs.to(DEVICE), targets.to(DEVICE)\n",
    "            optimizer.zero_grad()\n",
    "            outputs = model(inputs)\n",
    "            loss = criterion(outputs, targets)\n",
    "            loss.backward()\n",
    "            optimizer.step()\n",
    "            epoch_loss += loss.item()\n",
    "        avg_loss = epoch_loss / len(train_loader)\n",
    "        losses.append(avg_loss)\n",
    "        print(f\"Epoch {epoch+1}/{epochs} - Loss: {avg_loss:.4f}\")\n",
    "    return model, losses\n",
    "\n",
    "# Train all models\n",
    "save_path = os.path.join(PROJECT_ROOT, \"saved_models/\")\n",
    "os.makedirs(save_path, exist_ok=True)\n",
    "\n",
    "criterion = nn.MSELoss()\n",
    "all_losses = {}\n",
    "\n",
    "for name, model in models.items():\n",
    "    print(f\"\\nTraining {name.upper()}...\")\n",
    "    optimizer = optim.Adam(model.parameters(), lr=HPARAMS[\"learning_rate\"])\n",
    "    trained_model, losses = train_model(model, train_loader, criterion, optimizer, HPARAMS[\"epochs\"])\n",
    "    torch.save(trained_model.state_dict(), os.path.join(save_path, f\"{name}.pth\"))\n",
    "    all_losses[name] = losses\n",
    "    print(f\"✅ Model {name} saved.\")\n",
    "\n",
    "# Plot training losses\n",
    "plt.figure(figsize=(10,5))\n",
    "for name, losses in all_losses.items():\n",
    "    plt.plot(losses, label=name)\n",
    "plt.xlabel(\"Epoch\")\n",
    "plt.ylabel(\"Loss\")\n",
    "plt.title(\"Training Losses for Models\")\n",
    "plt.legend()\n",
    "plt.show()"
   ]
  },
  {
   "cell_type": "code",
   "execution_count": 7,
   "metadata": {},
   "outputs": [
    {
     "ename": "ImportError",
     "evalue": "cannot import name 'prepare_data' from 'utils.preprocessing' (/Users/jamesliu/Documents/GitHub/bloomberg-time-series/utils/preprocessing.py)",
     "output_type": "error",
     "traceback": [
      "\u001b[0;31m---------------------------------------------------------------------------\u001b[0m",
      "\u001b[0;31mImportError\u001b[0m                               Traceback (most recent call last)",
      "Cell \u001b[0;32mIn[7], line 1\u001b[0m\n\u001b[0;32m----> 1\u001b[0m \u001b[38;5;28;01mfrom\u001b[39;00m\u001b[38;5;250m \u001b[39m\u001b[38;5;21;01mutils\u001b[39;00m\u001b[38;5;21;01m.\u001b[39;00m\u001b[38;5;21;01mpreprocessing\u001b[39;00m\u001b[38;5;250m \u001b[39m\u001b[38;5;28;01mimport\u001b[39;00m prepare_data\n\u001b[1;32m      2\u001b[0m \u001b[38;5;28mprint\u001b[39m(\u001b[38;5;124m\"\u001b[39m\u001b[38;5;124m✅ Import successful!\u001b[39m\u001b[38;5;124m\"\u001b[39m)\n",
      "\u001b[0;31mImportError\u001b[0m: cannot import name 'prepare_data' from 'utils.preprocessing' (/Users/jamesliu/Documents/GitHub/bloomberg-time-series/utils/preprocessing.py)"
     ]
    }
   ],
   "source": [
    "from utils.preprocessing import prepare_data\n",
    "print(\"✅ Import successful!\")\n"
   ]
  },
  {
   "cell_type": "code",
   "execution_count": null,
   "metadata": {},
   "outputs": [],
   "source": []
  }
 ],
 "metadata": {
  "kernelspec": {
   "display_name": "finance",
   "language": "python",
   "name": "python3"
  },
  "language_info": {
   "codemirror_mode": {
    "name": "ipython",
    "version": 3
   },
   "file_extension": ".py",
   "mimetype": "text/x-python",
   "name": "python",
   "nbconvert_exporter": "python",
   "pygments_lexer": "ipython3",
   "version": "3.13.2"
  }
 },
 "nbformat": 4,
 "nbformat_minor": 2
}
