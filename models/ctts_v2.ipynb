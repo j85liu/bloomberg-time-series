{
 "cells": [
  {
   "cell_type": "code",
   "execution_count": 1,
   "id": "752404a2",
   "metadata": {},
   "outputs": [],
   "source": [
    "import torch\n",
    "import torch.nn as nn\n",
    "import torch.nn.functional as F\n",
    "import math\n",
    "\n",
    "class PositionalEncoding(nn.Module):\n",
    "    def __init__(self, d_model, max_len=5000):\n",
    "        super().__init__()\n",
    "        pe = torch.zeros(max_len, d_model)  # (T, d_model)\n",
    "        position = torch.arange(0, max_len, dtype=torch.float32).unsqueeze(1)\n",
    "        div_term = torch.exp(torch.arange(0, d_model, 2).float() * (-math.log(10000.0) / d_model))\n",
    "\n",
    "        pe[:, 0::2] = torch.sin(position * div_term)  # even\n",
    "        pe[:, 1::2] = torch.cos(position * div_term)  # odd\n",
    "\n",
    "        pe = pe.unsqueeze(1)  # (T, 1, d_model)\n",
    "        self.register_buffer('pe', pe)\n",
    "\n",
    "    def forward(self, x):\n",
    "        # x: (T, B, d_model)\n",
    "        x = x + self.pe[:x.size(0)]\n",
    "        return x\n",
    "\n",
    "class CTTSModel(nn.Module):\n",
    "    def __init__(self, input_dim, output_dim=1, cnn_channels=(64, 32), kernel_size=3,\n",
    "                 nhead=4, num_layers=2, dropout=0.1, max_len=5000):\n",
    "        super().__init__()\n",
    "        self.input_dim = input_dim\n",
    "        self.output_dim = output_dim\n",
    "\n",
    "        # CNN encoder\n",
    "        self.cnn = nn.Sequential(\n",
    "            nn.Conv1d(in_channels=input_dim, out_channels=cnn_channels[0], kernel_size=kernel_size, padding=kernel_size // 2),\n",
    "            nn.ReLU(),\n",
    "            nn.Conv1d(in_channels=cnn_channels[0], out_channels=cnn_channels[1], kernel_size=kernel_size, padding=kernel_size // 2),\n",
    "            nn.ReLU()\n",
    "        )\n",
    "\n",
    "        # Positional encoding + Transformer\n",
    "        self.pos_encoder = PositionalEncoding(d_model=cnn_channels[1], max_len=max_len)\n",
    "        encoder_layer = nn.TransformerEncoderLayer(d_model=cnn_channels[1], nhead=nhead, dropout=dropout)\n",
    "        self.transformer_encoder = nn.TransformerEncoder(encoder_layer, num_layers=num_layers)\n",
    "\n",
    "        # Decoder\n",
    "        self.decoder = nn.Linear(cnn_channels[1], output_dim)\n",
    "\n",
    "    def forward(self, x):\n",
    "        \"\"\"\n",
    "        x: (B, T, input_dim) → input_dim = target + exogenous\n",
    "        Returns: (B, output_dim)\n",
    "        \"\"\"\n",
    "        # CNN expects (B, input_dim, T)\n",
    "        x = x.permute(0, 2, 1)  # (B, N, T)\n",
    "        cnn_out = self.cnn(x)   # (B, 32, T)\n",
    "\n",
    "        # Transformer expects (T, B, d_model)\n",
    "        cnn_out = cnn_out.permute(2, 0, 1)  # (T, B, 32)\n",
    "        transformer_input = self.pos_encoder(cnn_out)\n",
    "        transformer_out = self.transformer_encoder(transformer_input)  # (T, B, 32)\n",
    "\n",
    "        # Use last time step's output for prediction\n",
    "        last_step = transformer_out[-1]  # (B, 32)\n",
    "        output = self.decoder(last_step)  # (B, output_dim)\n",
    "        return output\n"
   ]
  },
  {
   "cell_type": "code",
   "execution_count": 2,
   "id": "6620f800",
   "metadata": {},
   "outputs": [
    {
     "name": "stderr",
     "output_type": "stream",
     "text": [
      "/opt/anaconda3/envs/finance/lib/python3.13/site-packages/torch/nn/modules/transformer.py:385: UserWarning: enable_nested_tensor is True, but self.use_nested_tensor is False because encoder_layer.self_attn.batch_first was not True(use batch_first for better inference performance)\n",
      "  warnings.warn(\n"
     ]
    }
   ],
   "source": [
    "model = CTTSModel(input_dim=10, output_dim=1)  # e.g., 9 exogenous + 1 target\n",
    "\n",
    "x = torch.randn(64, 30, 10)  # batch_size=64, sequence_len=30\n",
    "y_hat = model(x)  # (64, 1)\n"
   ]
  },
  {
   "cell_type": "code",
   "execution_count": null,
   "id": "ee6134e5",
   "metadata": {},
   "outputs": [],
   "source": []
  }
 ],
 "metadata": {
  "kernelspec": {
   "display_name": "finance",
   "language": "python",
   "name": "python3"
  },
  "language_info": {
   "codemirror_mode": {
    "name": "ipython",
    "version": 3
   },
   "file_extension": ".py",
   "mimetype": "text/x-python",
   "name": "python",
   "nbconvert_exporter": "python",
   "pygments_lexer": "ipython3",
   "version": "3.13.2"
  }
 },
 "nbformat": 4,
 "nbformat_minor": 5
}
