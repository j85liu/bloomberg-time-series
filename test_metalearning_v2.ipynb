{
 "cells": [
  {
   "cell_type": "markdown",
   "id": "42c7dfd3",
   "metadata": {},
   "source": [
    "## Metalearning test ##\n",
    "\n",
    "Correct data issues"
   ]
  },
  {
   "cell_type": "code",
   "execution_count": null,
   "id": "37070d85",
   "metadata": {},
   "outputs": [],
   "source": []
  }
 ],
 "metadata": {
  "language_info": {
   "name": "python"
  }
 },
 "nbformat": 4,
 "nbformat_minor": 5
}
