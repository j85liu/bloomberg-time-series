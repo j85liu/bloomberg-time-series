{
 "cells": [
  {
   "cell_type": "code",
   "execution_count": 1,
   "id": "f7d2ea77",
   "metadata": {},
   "outputs": [],
   "source": [
    "# Common imports and setup\n",
    "import numpy as np\n",
    "import pandas as pd\n",
    "import matplotlib.pyplot as plt\n",
    "import seaborn as sns\n",
    "from scipy.stats import norm\n",
    "\n",
    "# Set plot style\n",
    "plt.style.use('seaborn-v0_8-whitegrid')\n",
    "sns.set_context(\"notebook\", font_scale=1.2)\n",
    "\n",
    "# Base parameters\n",
    "n_timesteps = 365  # One year\n",
    "np.random.seed(42)  # For reproducibility\n",
    "\n",
    "# Create time index\n",
    "dates = pd.date_range('2020-01-01', periods=n_timesteps, freq='D')\n",
    "time_numeric = np.arange(n_timesteps)\n",
    "\n",
    "# Calendar features (common across all datasets)\n",
    "day_of_week = dates.dayofweek  # 0=Monday, 6=Sunday\n",
    "is_weekend = (day_of_week >= 5).astype(int)\n",
    "month = dates.month\n",
    "day_of_week_sin = np.sin(2 * np.pi * day_of_week / 7)\n",
    "day_of_week_cos = np.cos(2 * np.pi * day_of_week / 7)\n",
    "day_of_month_sin = np.sin(2 * np.pi * dates.day / 30)\n",
    "day_of_month_cos = np.cos(2 * np.pi * dates.day / 30)\n",
    "month_sin = np.sin(2 * np.pi * month / 12)\n",
    "month_cos = np.cos(2 * np.pi * month / 12)\n",
    "\n",
    "# Common holidays\n",
    "is_holiday = np.zeros(n_timesteps)\n",
    "major_holidays = [0, 31, 59, 120, 185, 245, 335, 358]  # Approx: Jan 1, Feb 1, Mar 1, May 1, Jul 5, Sep 2, Dec 1, Dec 24\n",
    "for day in major_holidays:\n",
    "    if day < n_timesteps:\n",
    "        is_holiday[day] = 1\n",
    "\n",
    "random_holidays = np.random.choice(range(n_timesteps), size=10, replace=False)\n",
    "is_holiday[random_holidays] = 1\n",
    "\n",
    "# Function to get temperature with seasonal pattern\n",
    "def get_temperature(amplitude=10, phase_shift=np.pi, noise_scale=2):\n",
    "    temp_seasonal = 15 + amplitude * np.sin(2 * np.pi * time_numeric / 365 + phase_shift)\n",
    "    temp_noise = np.random.randn(n_timesteps) * noise_scale\n",
    "    return temp_seasonal + temp_noise\n",
    "\n",
    "# Function to get promotion periods\n",
    "def get_promotions(num_promotions=3, avg_duration=15):\n",
    "    is_promotion = np.zeros(n_timesteps)\n",
    "    promo_starts = np.random.choice(range(n_timesteps - avg_duration), size=num_promotions, replace=False)\n",
    "    \n",
    "    for start in promo_starts:\n",
    "        duration = int(avg_duration * (0.8 + 0.4 * np.random.random()))  # Variable duration\n",
    "        end = min(start + duration, n_timesteps)\n",
    "        is_promotion[start:end] = 1\n",
    "    \n",
    "    return is_promotion"
   ]
  },
  {
   "cell_type": "code",
   "execution_count": null,
   "id": "073489fb",
   "metadata": {},
   "outputs": [],
   "source": []
  }
 ],
 "metadata": {
  "kernelspec": {
   "display_name": "finance",
   "language": "python",
   "name": "python3"
  },
  "language_info": {
   "codemirror_mode": {
    "name": "ipython",
    "version": 3
   },
   "file_extension": ".py",
   "mimetype": "text/x-python",
   "name": "python",
   "nbconvert_exporter": "python",
   "pygments_lexer": "ipython3",
   "version": "3.13.2"
  }
 },
 "nbformat": 4,
 "nbformat_minor": 5
}
